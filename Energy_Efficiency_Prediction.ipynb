{
  "nbformat": 4,
  "nbformat_minor": 0,
  "metadata": {
    "colab": {
      "name": "Energy Efficiency Prediction.ipynb",
      "provenance": [],
      "authorship_tag": "ABX9TyOo0SubpLLRC+GSXM/rSXul",
      "include_colab_link": true
    },
    "kernelspec": {
      "name": "python3",
      "display_name": "Python 3"
    },
    "language_info": {
      "name": "python"
    }
  },
  "cells": [
    {
      "cell_type": "markdown",
      "metadata": {
        "id": "view-in-github",
        "colab_type": "text"
      },
      "source": [
        "<a href=\"https://colab.research.google.com/github/rreghunandan/Energy-Efficiency-Prediction-of-Buildng/blob/main/Energy_Efficiency_Prediction.ipynb\" target=\"_parent\"><img src=\"https://colab.research.google.com/assets/colab-badge.svg\" alt=\"Open In Colab\"/></a>"
      ]
    },
    {
      "cell_type": "markdown",
      "source": [
        "# **Importing Library and Dataset**"
      ],
      "metadata": {
        "id": "F_hBNvy6xycm"
      }
    },
    {
      "cell_type": "code",
      "execution_count": 74,
      "metadata": {
        "id": "W0p4ByqCDSBN"
      },
      "outputs": [],
      "source": [
        "import pandas as pd\n",
        "import numpy as np\n",
        "import warnings\n",
        "warnings.filterwarnings('ignore')\n",
        "import seaborn as sns\n",
        "import matplotlib.pyplot as plt"
      ]
    },
    {
      "cell_type": "code",
      "source": [
        "df = pd.read_csv('/content/ENB2012_data.xlsx - Φύλλο1.csv')\n",
        "df"
      ],
      "metadata": {
        "colab": {
          "base_uri": "https://localhost:8080/",
          "height": 424
        },
        "id": "sLkkiPXvDmvM",
        "outputId": "288834ff-ea6c-4493-da81-d7c536684735"
      },
      "execution_count": 75,
      "outputs": [
        {
          "output_type": "execute_result",
          "data": {
            "text/plain": [
              "      X1     X2     X3     X4   X5  X6   X7  X8    Y1    Y2\n",
              "0   0.98 514.50 294.00 110.25 7.00   2 0.00   0 15.55 21.33\n",
              "1   0.98 514.50 294.00 110.25 7.00   3 0.00   0 15.55 21.33\n",
              "2   0.98 514.50 294.00 110.25 7.00   4 0.00   0 15.55 21.33\n",
              "3   0.98 514.50 294.00 110.25 7.00   5 0.00   0 15.55 21.33\n",
              "4   0.90 563.50 318.50 122.50 7.00   2 0.00   0 20.84 28.28\n",
              "..   ...    ...    ...    ...  ...  ..  ...  ..   ...   ...\n",
              "763 0.64 784.00 343.00 220.50 3.50   5 0.40   5 17.88 21.40\n",
              "764 0.62 808.50 367.50 220.50 3.50   2 0.40   5 16.54 16.88\n",
              "765 0.62 808.50 367.50 220.50 3.50   3 0.40   5 16.44 17.11\n",
              "766 0.62 808.50 367.50 220.50 3.50   4 0.40   5 16.48 16.61\n",
              "767 0.62 808.50 367.50 220.50 3.50   5 0.40   5 16.64 16.03\n",
              "\n",
              "[768 rows x 10 columns]"
            ],
            "text/html": [
              "\n",
              "  <div id=\"df-0f4e3342-813d-4400-97ec-5a45474c13f9\">\n",
              "    <div class=\"colab-df-container\">\n",
              "      <div>\n",
              "<style scoped>\n",
              "    .dataframe tbody tr th:only-of-type {\n",
              "        vertical-align: middle;\n",
              "    }\n",
              "\n",
              "    .dataframe tbody tr th {\n",
              "        vertical-align: top;\n",
              "    }\n",
              "\n",
              "    .dataframe thead th {\n",
              "        text-align: right;\n",
              "    }\n",
              "</style>\n",
              "<table border=\"1\" class=\"dataframe\">\n",
              "  <thead>\n",
              "    <tr style=\"text-align: right;\">\n",
              "      <th></th>\n",
              "      <th>X1</th>\n",
              "      <th>X2</th>\n",
              "      <th>X3</th>\n",
              "      <th>X4</th>\n",
              "      <th>X5</th>\n",
              "      <th>X6</th>\n",
              "      <th>X7</th>\n",
              "      <th>X8</th>\n",
              "      <th>Y1</th>\n",
              "      <th>Y2</th>\n",
              "    </tr>\n",
              "  </thead>\n",
              "  <tbody>\n",
              "    <tr>\n",
              "      <th>0</th>\n",
              "      <td>0.98</td>\n",
              "      <td>514.50</td>\n",
              "      <td>294.00</td>\n",
              "      <td>110.25</td>\n",
              "      <td>7.00</td>\n",
              "      <td>2</td>\n",
              "      <td>0.00</td>\n",
              "      <td>0</td>\n",
              "      <td>15.55</td>\n",
              "      <td>21.33</td>\n",
              "    </tr>\n",
              "    <tr>\n",
              "      <th>1</th>\n",
              "      <td>0.98</td>\n",
              "      <td>514.50</td>\n",
              "      <td>294.00</td>\n",
              "      <td>110.25</td>\n",
              "      <td>7.00</td>\n",
              "      <td>3</td>\n",
              "      <td>0.00</td>\n",
              "      <td>0</td>\n",
              "      <td>15.55</td>\n",
              "      <td>21.33</td>\n",
              "    </tr>\n",
              "    <tr>\n",
              "      <th>2</th>\n",
              "      <td>0.98</td>\n",
              "      <td>514.50</td>\n",
              "      <td>294.00</td>\n",
              "      <td>110.25</td>\n",
              "      <td>7.00</td>\n",
              "      <td>4</td>\n",
              "      <td>0.00</td>\n",
              "      <td>0</td>\n",
              "      <td>15.55</td>\n",
              "      <td>21.33</td>\n",
              "    </tr>\n",
              "    <tr>\n",
              "      <th>3</th>\n",
              "      <td>0.98</td>\n",
              "      <td>514.50</td>\n",
              "      <td>294.00</td>\n",
              "      <td>110.25</td>\n",
              "      <td>7.00</td>\n",
              "      <td>5</td>\n",
              "      <td>0.00</td>\n",
              "      <td>0</td>\n",
              "      <td>15.55</td>\n",
              "      <td>21.33</td>\n",
              "    </tr>\n",
              "    <tr>\n",
              "      <th>4</th>\n",
              "      <td>0.90</td>\n",
              "      <td>563.50</td>\n",
              "      <td>318.50</td>\n",
              "      <td>122.50</td>\n",
              "      <td>7.00</td>\n",
              "      <td>2</td>\n",
              "      <td>0.00</td>\n",
              "      <td>0</td>\n",
              "      <td>20.84</td>\n",
              "      <td>28.28</td>\n",
              "    </tr>\n",
              "    <tr>\n",
              "      <th>...</th>\n",
              "      <td>...</td>\n",
              "      <td>...</td>\n",
              "      <td>...</td>\n",
              "      <td>...</td>\n",
              "      <td>...</td>\n",
              "      <td>...</td>\n",
              "      <td>...</td>\n",
              "      <td>...</td>\n",
              "      <td>...</td>\n",
              "      <td>...</td>\n",
              "    </tr>\n",
              "    <tr>\n",
              "      <th>763</th>\n",
              "      <td>0.64</td>\n",
              "      <td>784.00</td>\n",
              "      <td>343.00</td>\n",
              "      <td>220.50</td>\n",
              "      <td>3.50</td>\n",
              "      <td>5</td>\n",
              "      <td>0.40</td>\n",
              "      <td>5</td>\n",
              "      <td>17.88</td>\n",
              "      <td>21.40</td>\n",
              "    </tr>\n",
              "    <tr>\n",
              "      <th>764</th>\n",
              "      <td>0.62</td>\n",
              "      <td>808.50</td>\n",
              "      <td>367.50</td>\n",
              "      <td>220.50</td>\n",
              "      <td>3.50</td>\n",
              "      <td>2</td>\n",
              "      <td>0.40</td>\n",
              "      <td>5</td>\n",
              "      <td>16.54</td>\n",
              "      <td>16.88</td>\n",
              "    </tr>\n",
              "    <tr>\n",
              "      <th>765</th>\n",
              "      <td>0.62</td>\n",
              "      <td>808.50</td>\n",
              "      <td>367.50</td>\n",
              "      <td>220.50</td>\n",
              "      <td>3.50</td>\n",
              "      <td>3</td>\n",
              "      <td>0.40</td>\n",
              "      <td>5</td>\n",
              "      <td>16.44</td>\n",
              "      <td>17.11</td>\n",
              "    </tr>\n",
              "    <tr>\n",
              "      <th>766</th>\n",
              "      <td>0.62</td>\n",
              "      <td>808.50</td>\n",
              "      <td>367.50</td>\n",
              "      <td>220.50</td>\n",
              "      <td>3.50</td>\n",
              "      <td>4</td>\n",
              "      <td>0.40</td>\n",
              "      <td>5</td>\n",
              "      <td>16.48</td>\n",
              "      <td>16.61</td>\n",
              "    </tr>\n",
              "    <tr>\n",
              "      <th>767</th>\n",
              "      <td>0.62</td>\n",
              "      <td>808.50</td>\n",
              "      <td>367.50</td>\n",
              "      <td>220.50</td>\n",
              "      <td>3.50</td>\n",
              "      <td>5</td>\n",
              "      <td>0.40</td>\n",
              "      <td>5</td>\n",
              "      <td>16.64</td>\n",
              "      <td>16.03</td>\n",
              "    </tr>\n",
              "  </tbody>\n",
              "</table>\n",
              "<p>768 rows × 10 columns</p>\n",
              "</div>\n",
              "      <button class=\"colab-df-convert\" onclick=\"convertToInteractive('df-0f4e3342-813d-4400-97ec-5a45474c13f9')\"\n",
              "              title=\"Convert this dataframe to an interactive table.\"\n",
              "              style=\"display:none;\">\n",
              "        \n",
              "  <svg xmlns=\"http://www.w3.org/2000/svg\" height=\"24px\"viewBox=\"0 0 24 24\"\n",
              "       width=\"24px\">\n",
              "    <path d=\"M0 0h24v24H0V0z\" fill=\"none\"/>\n",
              "    <path d=\"M18.56 5.44l.94 2.06.94-2.06 2.06-.94-2.06-.94-.94-2.06-.94 2.06-2.06.94zm-11 1L8.5 8.5l.94-2.06 2.06-.94-2.06-.94L8.5 2.5l-.94 2.06-2.06.94zm10 10l.94 2.06.94-2.06 2.06-.94-2.06-.94-.94-2.06-.94 2.06-2.06.94z\"/><path d=\"M17.41 7.96l-1.37-1.37c-.4-.4-.92-.59-1.43-.59-.52 0-1.04.2-1.43.59L10.3 9.45l-7.72 7.72c-.78.78-.78 2.05 0 2.83L4 21.41c.39.39.9.59 1.41.59.51 0 1.02-.2 1.41-.59l7.78-7.78 2.81-2.81c.8-.78.8-2.07 0-2.86zM5.41 20L4 18.59l7.72-7.72 1.47 1.35L5.41 20z\"/>\n",
              "  </svg>\n",
              "      </button>\n",
              "      \n",
              "  <style>\n",
              "    .colab-df-container {\n",
              "      display:flex;\n",
              "      flex-wrap:wrap;\n",
              "      gap: 12px;\n",
              "    }\n",
              "\n",
              "    .colab-df-convert {\n",
              "      background-color: #E8F0FE;\n",
              "      border: none;\n",
              "      border-radius: 50%;\n",
              "      cursor: pointer;\n",
              "      display: none;\n",
              "      fill: #1967D2;\n",
              "      height: 32px;\n",
              "      padding: 0 0 0 0;\n",
              "      width: 32px;\n",
              "    }\n",
              "\n",
              "    .colab-df-convert:hover {\n",
              "      background-color: #E2EBFA;\n",
              "      box-shadow: 0px 1px 2px rgba(60, 64, 67, 0.3), 0px 1px 3px 1px rgba(60, 64, 67, 0.15);\n",
              "      fill: #174EA6;\n",
              "    }\n",
              "\n",
              "    [theme=dark] .colab-df-convert {\n",
              "      background-color: #3B4455;\n",
              "      fill: #D2E3FC;\n",
              "    }\n",
              "\n",
              "    [theme=dark] .colab-df-convert:hover {\n",
              "      background-color: #434B5C;\n",
              "      box-shadow: 0px 1px 3px 1px rgba(0, 0, 0, 0.15);\n",
              "      filter: drop-shadow(0px 1px 2px rgba(0, 0, 0, 0.3));\n",
              "      fill: #FFFFFF;\n",
              "    }\n",
              "  </style>\n",
              "\n",
              "      <script>\n",
              "        const buttonEl =\n",
              "          document.querySelector('#df-0f4e3342-813d-4400-97ec-5a45474c13f9 button.colab-df-convert');\n",
              "        buttonEl.style.display =\n",
              "          google.colab.kernel.accessAllowed ? 'block' : 'none';\n",
              "\n",
              "        async function convertToInteractive(key) {\n",
              "          const element = document.querySelector('#df-0f4e3342-813d-4400-97ec-5a45474c13f9');\n",
              "          const dataTable =\n",
              "            await google.colab.kernel.invokeFunction('convertToInteractive',\n",
              "                                                     [key], {});\n",
              "          if (!dataTable) return;\n",
              "\n",
              "          const docLinkHtml = 'Like what you see? Visit the ' +\n",
              "            '<a target=\"_blank\" href=https://colab.research.google.com/notebooks/data_table.ipynb>data table notebook</a>'\n",
              "            + ' to learn more about interactive tables.';\n",
              "          element.innerHTML = '';\n",
              "          dataTable['output_type'] = 'display_data';\n",
              "          await google.colab.output.renderOutput(dataTable, element);\n",
              "          const docLink = document.createElement('div');\n",
              "          docLink.innerHTML = docLinkHtml;\n",
              "          element.appendChild(docLink);\n",
              "        }\n",
              "      </script>\n",
              "    </div>\n",
              "  </div>\n",
              "  "
            ]
          },
          "metadata": {},
          "execution_count": 75
        }
      ]
    },
    {
      "cell_type": "markdown",
      "source": [
        "## **COLUMNS**"
      ],
      "metadata": {
        "id": "2PPlXeseD7Ad"
      }
    },
    {
      "cell_type": "markdown",
      "source": [
        "\n",
        "1.   X1 Relative Compactness\n",
        "2.   X2 Surface Area\n",
        "3.   X3 Wall Area\n",
        "4.    X4 Roof Area\n",
        "5     X5 Overall Height\n",
        "6.     X6 Orientation\n",
        "7     X7 Glazing Area\n",
        "8.   X8 Glazing Area Distribution;\n",
        "9.   y1 Heating Load (target);\n",
        "10.  y2 Cooling Load (target);\n",
        "\n",
        "\n",
        "\n",
        "\n",
        "\n",
        "\n",
        "\n",
        "\n"
      ],
      "metadata": {
        "id": "9BJnFG56D699"
      }
    },
    {
      "cell_type": "markdown",
      "source": [
        "Data Set Information:\n",
        "\n",
        "We perform energy analysis using 12 different building shapes simulated in Ecotect. The buildings differ with respect to the glazing area, the glazing area distribution, and the orientation, amongst other parameters"
      ],
      "metadata": {
        "id": "kIKNitY5FTcm"
      }
    },
    {
      "cell_type": "code",
      "source": [
        "columns = ['Relative Compactness(X1)','Surface Area(X2)','Wall Area(X3)','Roof Area(X4)','Overall Height(X5)','Orientation(X6)','Glazing Area(X7)','Glazing Area Distribution(X8)','Heating Load(y1)','Cooling Load(y2)']\n",
        "df.columns = columns\n"
      ],
      "metadata": {
        "id": "iVNo1OAAFFjs"
      },
      "execution_count": 76,
      "outputs": []
    },
    {
      "cell_type": "code",
      "source": [
        "df.head()"
      ],
      "metadata": {
        "colab": {
          "base_uri": "https://localhost:8080/",
          "height": 288
        },
        "id": "rJfzMdEMFkTf",
        "outputId": "3265cab9-4755-49cf-8f9a-5e8ef23bed25"
      },
      "execution_count": 77,
      "outputs": [
        {
          "output_type": "execute_result",
          "data": {
            "text/plain": [
              "   Relative Compactness(X1)  Surface Area(X2)  Wall Area(X3)  Roof Area(X4)  \\\n",
              "0                      0.98            514.50         294.00         110.25   \n",
              "1                      0.98            514.50         294.00         110.25   \n",
              "2                      0.98            514.50         294.00         110.25   \n",
              "3                      0.98            514.50         294.00         110.25   \n",
              "4                      0.90            563.50         318.50         122.50   \n",
              "\n",
              "   Overall Height(X5)  Orientation(X6)  Glazing Area(X7)  \\\n",
              "0                7.00                2              0.00   \n",
              "1                7.00                3              0.00   \n",
              "2                7.00                4              0.00   \n",
              "3                7.00                5              0.00   \n",
              "4                7.00                2              0.00   \n",
              "\n",
              "   Glazing Area Distribution(X8)  Heating Load(y1)  Cooling Load(y2)  \n",
              "0                              0             15.55             21.33  \n",
              "1                              0             15.55             21.33  \n",
              "2                              0             15.55             21.33  \n",
              "3                              0             15.55             21.33  \n",
              "4                              0             20.84             28.28  "
            ],
            "text/html": [
              "\n",
              "  <div id=\"df-e2bc9955-3579-481b-8295-4d586bbf7e0b\">\n",
              "    <div class=\"colab-df-container\">\n",
              "      <div>\n",
              "<style scoped>\n",
              "    .dataframe tbody tr th:only-of-type {\n",
              "        vertical-align: middle;\n",
              "    }\n",
              "\n",
              "    .dataframe tbody tr th {\n",
              "        vertical-align: top;\n",
              "    }\n",
              "\n",
              "    .dataframe thead th {\n",
              "        text-align: right;\n",
              "    }\n",
              "</style>\n",
              "<table border=\"1\" class=\"dataframe\">\n",
              "  <thead>\n",
              "    <tr style=\"text-align: right;\">\n",
              "      <th></th>\n",
              "      <th>Relative Compactness(X1)</th>\n",
              "      <th>Surface Area(X2)</th>\n",
              "      <th>Wall Area(X3)</th>\n",
              "      <th>Roof Area(X4)</th>\n",
              "      <th>Overall Height(X5)</th>\n",
              "      <th>Orientation(X6)</th>\n",
              "      <th>Glazing Area(X7)</th>\n",
              "      <th>Glazing Area Distribution(X8)</th>\n",
              "      <th>Heating Load(y1)</th>\n",
              "      <th>Cooling Load(y2)</th>\n",
              "    </tr>\n",
              "  </thead>\n",
              "  <tbody>\n",
              "    <tr>\n",
              "      <th>0</th>\n",
              "      <td>0.98</td>\n",
              "      <td>514.50</td>\n",
              "      <td>294.00</td>\n",
              "      <td>110.25</td>\n",
              "      <td>7.00</td>\n",
              "      <td>2</td>\n",
              "      <td>0.00</td>\n",
              "      <td>0</td>\n",
              "      <td>15.55</td>\n",
              "      <td>21.33</td>\n",
              "    </tr>\n",
              "    <tr>\n",
              "      <th>1</th>\n",
              "      <td>0.98</td>\n",
              "      <td>514.50</td>\n",
              "      <td>294.00</td>\n",
              "      <td>110.25</td>\n",
              "      <td>7.00</td>\n",
              "      <td>3</td>\n",
              "      <td>0.00</td>\n",
              "      <td>0</td>\n",
              "      <td>15.55</td>\n",
              "      <td>21.33</td>\n",
              "    </tr>\n",
              "    <tr>\n",
              "      <th>2</th>\n",
              "      <td>0.98</td>\n",
              "      <td>514.50</td>\n",
              "      <td>294.00</td>\n",
              "      <td>110.25</td>\n",
              "      <td>7.00</td>\n",
              "      <td>4</td>\n",
              "      <td>0.00</td>\n",
              "      <td>0</td>\n",
              "      <td>15.55</td>\n",
              "      <td>21.33</td>\n",
              "    </tr>\n",
              "    <tr>\n",
              "      <th>3</th>\n",
              "      <td>0.98</td>\n",
              "      <td>514.50</td>\n",
              "      <td>294.00</td>\n",
              "      <td>110.25</td>\n",
              "      <td>7.00</td>\n",
              "      <td>5</td>\n",
              "      <td>0.00</td>\n",
              "      <td>0</td>\n",
              "      <td>15.55</td>\n",
              "      <td>21.33</td>\n",
              "    </tr>\n",
              "    <tr>\n",
              "      <th>4</th>\n",
              "      <td>0.90</td>\n",
              "      <td>563.50</td>\n",
              "      <td>318.50</td>\n",
              "      <td>122.50</td>\n",
              "      <td>7.00</td>\n",
              "      <td>2</td>\n",
              "      <td>0.00</td>\n",
              "      <td>0</td>\n",
              "      <td>20.84</td>\n",
              "      <td>28.28</td>\n",
              "    </tr>\n",
              "  </tbody>\n",
              "</table>\n",
              "</div>\n",
              "      <button class=\"colab-df-convert\" onclick=\"convertToInteractive('df-e2bc9955-3579-481b-8295-4d586bbf7e0b')\"\n",
              "              title=\"Convert this dataframe to an interactive table.\"\n",
              "              style=\"display:none;\">\n",
              "        \n",
              "  <svg xmlns=\"http://www.w3.org/2000/svg\" height=\"24px\"viewBox=\"0 0 24 24\"\n",
              "       width=\"24px\">\n",
              "    <path d=\"M0 0h24v24H0V0z\" fill=\"none\"/>\n",
              "    <path d=\"M18.56 5.44l.94 2.06.94-2.06 2.06-.94-2.06-.94-.94-2.06-.94 2.06-2.06.94zm-11 1L8.5 8.5l.94-2.06 2.06-.94-2.06-.94L8.5 2.5l-.94 2.06-2.06.94zm10 10l.94 2.06.94-2.06 2.06-.94-2.06-.94-.94-2.06-.94 2.06-2.06.94z\"/><path d=\"M17.41 7.96l-1.37-1.37c-.4-.4-.92-.59-1.43-.59-.52 0-1.04.2-1.43.59L10.3 9.45l-7.72 7.72c-.78.78-.78 2.05 0 2.83L4 21.41c.39.39.9.59 1.41.59.51 0 1.02-.2 1.41-.59l7.78-7.78 2.81-2.81c.8-.78.8-2.07 0-2.86zM5.41 20L4 18.59l7.72-7.72 1.47 1.35L5.41 20z\"/>\n",
              "  </svg>\n",
              "      </button>\n",
              "      \n",
              "  <style>\n",
              "    .colab-df-container {\n",
              "      display:flex;\n",
              "      flex-wrap:wrap;\n",
              "      gap: 12px;\n",
              "    }\n",
              "\n",
              "    .colab-df-convert {\n",
              "      background-color: #E8F0FE;\n",
              "      border: none;\n",
              "      border-radius: 50%;\n",
              "      cursor: pointer;\n",
              "      display: none;\n",
              "      fill: #1967D2;\n",
              "      height: 32px;\n",
              "      padding: 0 0 0 0;\n",
              "      width: 32px;\n",
              "    }\n",
              "\n",
              "    .colab-df-convert:hover {\n",
              "      background-color: #E2EBFA;\n",
              "      box-shadow: 0px 1px 2px rgba(60, 64, 67, 0.3), 0px 1px 3px 1px rgba(60, 64, 67, 0.15);\n",
              "      fill: #174EA6;\n",
              "    }\n",
              "\n",
              "    [theme=dark] .colab-df-convert {\n",
              "      background-color: #3B4455;\n",
              "      fill: #D2E3FC;\n",
              "    }\n",
              "\n",
              "    [theme=dark] .colab-df-convert:hover {\n",
              "      background-color: #434B5C;\n",
              "      box-shadow: 0px 1px 3px 1px rgba(0, 0, 0, 0.15);\n",
              "      filter: drop-shadow(0px 1px 2px rgba(0, 0, 0, 0.3));\n",
              "      fill: #FFFFFF;\n",
              "    }\n",
              "  </style>\n",
              "\n",
              "      <script>\n",
              "        const buttonEl =\n",
              "          document.querySelector('#df-e2bc9955-3579-481b-8295-4d586bbf7e0b button.colab-df-convert');\n",
              "        buttonEl.style.display =\n",
              "          google.colab.kernel.accessAllowed ? 'block' : 'none';\n",
              "\n",
              "        async function convertToInteractive(key) {\n",
              "          const element = document.querySelector('#df-e2bc9955-3579-481b-8295-4d586bbf7e0b');\n",
              "          const dataTable =\n",
              "            await google.colab.kernel.invokeFunction('convertToInteractive',\n",
              "                                                     [key], {});\n",
              "          if (!dataTable) return;\n",
              "\n",
              "          const docLinkHtml = 'Like what you see? Visit the ' +\n",
              "            '<a target=\"_blank\" href=https://colab.research.google.com/notebooks/data_table.ipynb>data table notebook</a>'\n",
              "            + ' to learn more about interactive tables.';\n",
              "          element.innerHTML = '';\n",
              "          dataTable['output_type'] = 'display_data';\n",
              "          await google.colab.output.renderOutput(dataTable, element);\n",
              "          const docLink = document.createElement('div');\n",
              "          docLink.innerHTML = docLinkHtml;\n",
              "          element.appendChild(docLink);\n",
              "        }\n",
              "      </script>\n",
              "    </div>\n",
              "  </div>\n",
              "  "
            ]
          },
          "metadata": {},
          "execution_count": 77
        }
      ]
    },
    {
      "cell_type": "code",
      "source": [
        "df.info()"
      ],
      "metadata": {
        "colab": {
          "base_uri": "https://localhost:8080/"
        },
        "id": "skZ84XOeGJCx",
        "outputId": "42b5bdaf-5ff2-41c1-df35-7ffc2ccf345c"
      },
      "execution_count": 78,
      "outputs": [
        {
          "output_type": "stream",
          "name": "stdout",
          "text": [
            "<class 'pandas.core.frame.DataFrame'>\n",
            "RangeIndex: 768 entries, 0 to 767\n",
            "Data columns (total 10 columns):\n",
            " #   Column                         Non-Null Count  Dtype  \n",
            "---  ------                         --------------  -----  \n",
            " 0   Relative Compactness(X1)       768 non-null    float64\n",
            " 1   Surface Area(X2)               768 non-null    float64\n",
            " 2   Wall Area(X3)                  768 non-null    float64\n",
            " 3   Roof Area(X4)                  768 non-null    float64\n",
            " 4   Overall Height(X5)             768 non-null    float64\n",
            " 5   Orientation(X6)                768 non-null    int64  \n",
            " 6   Glazing Area(X7)               768 non-null    float64\n",
            " 7   Glazing Area Distribution(X8)  768 non-null    int64  \n",
            " 8   Heating Load(y1)               768 non-null    float64\n",
            " 9   Cooling Load(y2)               768 non-null    float64\n",
            "dtypes: float64(8), int64(2)\n",
            "memory usage: 60.1 KB\n"
          ]
        }
      ]
    },
    {
      "cell_type": "code",
      "source": [
        "df.describe().T"
      ],
      "metadata": {
        "colab": {
          "base_uri": "https://localhost:8080/",
          "height": 363
        },
        "id": "kkKI1lu5GQIj",
        "outputId": "3a8bb165-5138-4be4-8217-fea015498c72"
      },
      "execution_count": 79,
      "outputs": [
        {
          "output_type": "execute_result",
          "data": {
            "text/plain": [
              "                               count   mean   std    min    25%    50%    75%  \\\n",
              "Relative Compactness(X1)      768.00   0.76  0.11   0.62   0.68   0.75   0.83   \n",
              "Surface Area(X2)              768.00 671.71 88.09 514.50 606.38 673.75 741.12   \n",
              "Wall Area(X3)                 768.00 318.50 43.63 245.00 294.00 318.50 343.00   \n",
              "Roof Area(X4)                 768.00 176.60 45.17 110.25 140.88 183.75 220.50   \n",
              "Overall Height(X5)            768.00   5.25  1.75   3.50   3.50   5.25   7.00   \n",
              "Orientation(X6)               768.00   3.50  1.12   2.00   2.75   3.50   4.25   \n",
              "Glazing Area(X7)              768.00   0.23  0.13   0.00   0.10   0.25   0.40   \n",
              "Glazing Area Distribution(X8) 768.00   2.81  1.55   0.00   1.75   3.00   4.00   \n",
              "Heating Load(y1)              768.00  22.31 10.09   6.01  12.99  18.95  31.67   \n",
              "Cooling Load(y2)              768.00  24.59  9.51  10.90  15.62  22.08  33.13   \n",
              "\n",
              "                                 max  \n",
              "Relative Compactness(X1)        0.98  \n",
              "Surface Area(X2)              808.50  \n",
              "Wall Area(X3)                 416.50  \n",
              "Roof Area(X4)                 220.50  \n",
              "Overall Height(X5)              7.00  \n",
              "Orientation(X6)                 5.00  \n",
              "Glazing Area(X7)                0.40  \n",
              "Glazing Area Distribution(X8)   5.00  \n",
              "Heating Load(y1)               43.10  \n",
              "Cooling Load(y2)               48.03  "
            ],
            "text/html": [
              "\n",
              "  <div id=\"df-edc1b29e-5d78-4404-a12a-756aa775a0ab\">\n",
              "    <div class=\"colab-df-container\">\n",
              "      <div>\n",
              "<style scoped>\n",
              "    .dataframe tbody tr th:only-of-type {\n",
              "        vertical-align: middle;\n",
              "    }\n",
              "\n",
              "    .dataframe tbody tr th {\n",
              "        vertical-align: top;\n",
              "    }\n",
              "\n",
              "    .dataframe thead th {\n",
              "        text-align: right;\n",
              "    }\n",
              "</style>\n",
              "<table border=\"1\" class=\"dataframe\">\n",
              "  <thead>\n",
              "    <tr style=\"text-align: right;\">\n",
              "      <th></th>\n",
              "      <th>count</th>\n",
              "      <th>mean</th>\n",
              "      <th>std</th>\n",
              "      <th>min</th>\n",
              "      <th>25%</th>\n",
              "      <th>50%</th>\n",
              "      <th>75%</th>\n",
              "      <th>max</th>\n",
              "    </tr>\n",
              "  </thead>\n",
              "  <tbody>\n",
              "    <tr>\n",
              "      <th>Relative Compactness(X1)</th>\n",
              "      <td>768.00</td>\n",
              "      <td>0.76</td>\n",
              "      <td>0.11</td>\n",
              "      <td>0.62</td>\n",
              "      <td>0.68</td>\n",
              "      <td>0.75</td>\n",
              "      <td>0.83</td>\n",
              "      <td>0.98</td>\n",
              "    </tr>\n",
              "    <tr>\n",
              "      <th>Surface Area(X2)</th>\n",
              "      <td>768.00</td>\n",
              "      <td>671.71</td>\n",
              "      <td>88.09</td>\n",
              "      <td>514.50</td>\n",
              "      <td>606.38</td>\n",
              "      <td>673.75</td>\n",
              "      <td>741.12</td>\n",
              "      <td>808.50</td>\n",
              "    </tr>\n",
              "    <tr>\n",
              "      <th>Wall Area(X3)</th>\n",
              "      <td>768.00</td>\n",
              "      <td>318.50</td>\n",
              "      <td>43.63</td>\n",
              "      <td>245.00</td>\n",
              "      <td>294.00</td>\n",
              "      <td>318.50</td>\n",
              "      <td>343.00</td>\n",
              "      <td>416.50</td>\n",
              "    </tr>\n",
              "    <tr>\n",
              "      <th>Roof Area(X4)</th>\n",
              "      <td>768.00</td>\n",
              "      <td>176.60</td>\n",
              "      <td>45.17</td>\n",
              "      <td>110.25</td>\n",
              "      <td>140.88</td>\n",
              "      <td>183.75</td>\n",
              "      <td>220.50</td>\n",
              "      <td>220.50</td>\n",
              "    </tr>\n",
              "    <tr>\n",
              "      <th>Overall Height(X5)</th>\n",
              "      <td>768.00</td>\n",
              "      <td>5.25</td>\n",
              "      <td>1.75</td>\n",
              "      <td>3.50</td>\n",
              "      <td>3.50</td>\n",
              "      <td>5.25</td>\n",
              "      <td>7.00</td>\n",
              "      <td>7.00</td>\n",
              "    </tr>\n",
              "    <tr>\n",
              "      <th>Orientation(X6)</th>\n",
              "      <td>768.00</td>\n",
              "      <td>3.50</td>\n",
              "      <td>1.12</td>\n",
              "      <td>2.00</td>\n",
              "      <td>2.75</td>\n",
              "      <td>3.50</td>\n",
              "      <td>4.25</td>\n",
              "      <td>5.00</td>\n",
              "    </tr>\n",
              "    <tr>\n",
              "      <th>Glazing Area(X7)</th>\n",
              "      <td>768.00</td>\n",
              "      <td>0.23</td>\n",
              "      <td>0.13</td>\n",
              "      <td>0.00</td>\n",
              "      <td>0.10</td>\n",
              "      <td>0.25</td>\n",
              "      <td>0.40</td>\n",
              "      <td>0.40</td>\n",
              "    </tr>\n",
              "    <tr>\n",
              "      <th>Glazing Area Distribution(X8)</th>\n",
              "      <td>768.00</td>\n",
              "      <td>2.81</td>\n",
              "      <td>1.55</td>\n",
              "      <td>0.00</td>\n",
              "      <td>1.75</td>\n",
              "      <td>3.00</td>\n",
              "      <td>4.00</td>\n",
              "      <td>5.00</td>\n",
              "    </tr>\n",
              "    <tr>\n",
              "      <th>Heating Load(y1)</th>\n",
              "      <td>768.00</td>\n",
              "      <td>22.31</td>\n",
              "      <td>10.09</td>\n",
              "      <td>6.01</td>\n",
              "      <td>12.99</td>\n",
              "      <td>18.95</td>\n",
              "      <td>31.67</td>\n",
              "      <td>43.10</td>\n",
              "    </tr>\n",
              "    <tr>\n",
              "      <th>Cooling Load(y2)</th>\n",
              "      <td>768.00</td>\n",
              "      <td>24.59</td>\n",
              "      <td>9.51</td>\n",
              "      <td>10.90</td>\n",
              "      <td>15.62</td>\n",
              "      <td>22.08</td>\n",
              "      <td>33.13</td>\n",
              "      <td>48.03</td>\n",
              "    </tr>\n",
              "  </tbody>\n",
              "</table>\n",
              "</div>\n",
              "      <button class=\"colab-df-convert\" onclick=\"convertToInteractive('df-edc1b29e-5d78-4404-a12a-756aa775a0ab')\"\n",
              "              title=\"Convert this dataframe to an interactive table.\"\n",
              "              style=\"display:none;\">\n",
              "        \n",
              "  <svg xmlns=\"http://www.w3.org/2000/svg\" height=\"24px\"viewBox=\"0 0 24 24\"\n",
              "       width=\"24px\">\n",
              "    <path d=\"M0 0h24v24H0V0z\" fill=\"none\"/>\n",
              "    <path d=\"M18.56 5.44l.94 2.06.94-2.06 2.06-.94-2.06-.94-.94-2.06-.94 2.06-2.06.94zm-11 1L8.5 8.5l.94-2.06 2.06-.94-2.06-.94L8.5 2.5l-.94 2.06-2.06.94zm10 10l.94 2.06.94-2.06 2.06-.94-2.06-.94-.94-2.06-.94 2.06-2.06.94z\"/><path d=\"M17.41 7.96l-1.37-1.37c-.4-.4-.92-.59-1.43-.59-.52 0-1.04.2-1.43.59L10.3 9.45l-7.72 7.72c-.78.78-.78 2.05 0 2.83L4 21.41c.39.39.9.59 1.41.59.51 0 1.02-.2 1.41-.59l7.78-7.78 2.81-2.81c.8-.78.8-2.07 0-2.86zM5.41 20L4 18.59l7.72-7.72 1.47 1.35L5.41 20z\"/>\n",
              "  </svg>\n",
              "      </button>\n",
              "      \n",
              "  <style>\n",
              "    .colab-df-container {\n",
              "      display:flex;\n",
              "      flex-wrap:wrap;\n",
              "      gap: 12px;\n",
              "    }\n",
              "\n",
              "    .colab-df-convert {\n",
              "      background-color: #E8F0FE;\n",
              "      border: none;\n",
              "      border-radius: 50%;\n",
              "      cursor: pointer;\n",
              "      display: none;\n",
              "      fill: #1967D2;\n",
              "      height: 32px;\n",
              "      padding: 0 0 0 0;\n",
              "      width: 32px;\n",
              "    }\n",
              "\n",
              "    .colab-df-convert:hover {\n",
              "      background-color: #E2EBFA;\n",
              "      box-shadow: 0px 1px 2px rgba(60, 64, 67, 0.3), 0px 1px 3px 1px rgba(60, 64, 67, 0.15);\n",
              "      fill: #174EA6;\n",
              "    }\n",
              "\n",
              "    [theme=dark] .colab-df-convert {\n",
              "      background-color: #3B4455;\n",
              "      fill: #D2E3FC;\n",
              "    }\n",
              "\n",
              "    [theme=dark] .colab-df-convert:hover {\n",
              "      background-color: #434B5C;\n",
              "      box-shadow: 0px 1px 3px 1px rgba(0, 0, 0, 0.15);\n",
              "      filter: drop-shadow(0px 1px 2px rgba(0, 0, 0, 0.3));\n",
              "      fill: #FFFFFF;\n",
              "    }\n",
              "  </style>\n",
              "\n",
              "      <script>\n",
              "        const buttonEl =\n",
              "          document.querySelector('#df-edc1b29e-5d78-4404-a12a-756aa775a0ab button.colab-df-convert');\n",
              "        buttonEl.style.display =\n",
              "          google.colab.kernel.accessAllowed ? 'block' : 'none';\n",
              "\n",
              "        async function convertToInteractive(key) {\n",
              "          const element = document.querySelector('#df-edc1b29e-5d78-4404-a12a-756aa775a0ab');\n",
              "          const dataTable =\n",
              "            await google.colab.kernel.invokeFunction('convertToInteractive',\n",
              "                                                     [key], {});\n",
              "          if (!dataTable) return;\n",
              "\n",
              "          const docLinkHtml = 'Like what you see? Visit the ' +\n",
              "            '<a target=\"_blank\" href=https://colab.research.google.com/notebooks/data_table.ipynb>data table notebook</a>'\n",
              "            + ' to learn more about interactive tables.';\n",
              "          element.innerHTML = '';\n",
              "          dataTable['output_type'] = 'display_data';\n",
              "          await google.colab.output.renderOutput(dataTable, element);\n",
              "          const docLink = document.createElement('div');\n",
              "          docLink.innerHTML = docLinkHtml;\n",
              "          element.appendChild(docLink);\n",
              "        }\n",
              "      </script>\n",
              "    </div>\n",
              "  </div>\n",
              "  "
            ]
          },
          "metadata": {},
          "execution_count": 79
        }
      ]
    },
    {
      "cell_type": "code",
      "source": [
        "df.isnull().sum()"
      ],
      "metadata": {
        "colab": {
          "base_uri": "https://localhost:8080/"
        },
        "id": "rGeXnmgKGc5f",
        "outputId": "75e9b78d-f7f6-41ad-9639-d121a08a6346"
      },
      "execution_count": 80,
      "outputs": [
        {
          "output_type": "execute_result",
          "data": {
            "text/plain": [
              "Relative Compactness(X1)         0\n",
              "Surface Area(X2)                 0\n",
              "Wall Area(X3)                    0\n",
              "Roof Area(X4)                    0\n",
              "Overall Height(X5)               0\n",
              "Orientation(X6)                  0\n",
              "Glazing Area(X7)                 0\n",
              "Glazing Area Distribution(X8)    0\n",
              "Heating Load(y1)                 0\n",
              "Cooling Load(y2)                 0\n",
              "dtype: int64"
            ]
          },
          "metadata": {},
          "execution_count": 80
        }
      ]
    },
    {
      "cell_type": "markdown",
      "source": [
        "# **EDA**"
      ],
      "metadata": {
        "id": "tWd0HnvLJGN9"
      }
    },
    {
      "cell_type": "code",
      "source": [
        "df.plot(kind='density', subplots=True, layout=(5,3), figsize=(20, 15), sharex=False)\n",
        "plt.show()"
      ],
      "metadata": {
        "colab": {
          "base_uri": "https://localhost:8080/",
          "height": 559
        },
        "id": "C27102epJIqm",
        "outputId": "edacfbf3-c4ce-44a6-993f-e023e195927a"
      },
      "execution_count": 81,
      "outputs": [
        {
          "output_type": "display_data",
          "data": {
            "text/plain": [
              "<Figure size 1440x1080 with 15 Axes>"
            ],
            "image/png": "[encoded data removed]"
          },
          "metadata": {
            "needs_background": "light"
          }
        }
      ]
    },
    {
      "cell_type": "code",
      "source": [
        "df.corr()['Heating Load(y1)'].sort_values()[:-1].plot.bar()"
      ],
      "metadata": {
        "colab": {
          "base_uri": "https://localhost:8080/",
          "height": 419
        },
        "id": "xw3RphBLMoz7",
        "outputId": "a4bcdae2-21c4-4973-bdeb-23ac37efaa1b"
      },
      "execution_count": 82,
      "outputs": [
        {
          "output_type": "execute_result",
          "data": {
            "text/plain": [
              "<matplotlib.axes._subplots.AxesSubplot at 0x7f633160f2d0>"
            ]
          },
          "metadata": {},
          "execution_count": 82
        },
        {
          "output_type": "display_data",
          "data": {
            "text/plain": [
              "<Figure size 432x288 with 1 Axes>"
            ],
            "image/png": "[encoded data removed]"
          },
          "metadata": {
            "needs_background": "light"
          }
        }
      ]
    },
    {
      "cell_type": "markdown",
      "source": [
        "\n",
        "\n",
        "*   This correlation plot shows that y1 and y2 which are heating load and cooling load are almost perfectly correlated. This was expected.\n",
        "*X4 and X5 are also highly correlated with Y1, so they are also correlated with Y2. These are roof area and overall height. This is also expected beacuse they both increase the volume of the house which makes it harder to heat or cool.\n",
        "*Lastly X1, X2 and X3 are corelated to y1 (y2, too). These are relative compactness, surface area and wall area. These are also expected.\n",
        "*However X6 and X8 have almost 0 correlation. These values are orientation and glazing area distribution. This also makes sense because these values are irrelevant.\n",
        "\n"
      ],
      "metadata": {
        "id": "SOIw8a_pNr08"
      }
    },
    {
      "cell_type": "code",
      "source": [
        "plt.figure(figsize=(10,10))\n",
        "sns.heatmap(df.corr(), annot=True)"
      ],
      "metadata": {
        "id": "iThq4Xj3OM3E",
        "outputId": "673feeed-df01-41b2-d5b7-a8e852283a08",
        "colab": {
          "base_uri": "https://localhost:8080/",
          "height": 750
        }
      },
      "execution_count": 83,
      "outputs": [
        {
          "output_type": "execute_result",
          "data": {
            "text/plain": [
              "<matplotlib.axes._subplots.AxesSubplot at 0x7f63314e8810>"
            ]
          },
          "metadata": {},
          "execution_count": 83
        },
        {
          "output_type": "display_data",
          "data": {
            "text/plain": [
              "<Figure size 720x720 with 2 Axes>"
            ],
            "image/png": "[encoded data removed]"
          },
          "metadata": {
            "needs_background": "light"
          }
        }
      ]
    },
    {
      "cell_type": "code",
      "source": [
        "pd.set_option('display.float_format',lambda x: '{:,.2f}'.format(x) if abs(x) < 10000 else '{:,.0f}'.format(x))\n",
        "df.corr()"
      ],
      "metadata": {
        "colab": {
          "base_uri": "https://localhost:8080/",
          "height": 514
        },
        "id": "JcNuXoMQQPSr",
        "outputId": "616d8029-0d72-46d7-f5b3-695171a26abf"
      },
      "execution_count": 84,
      "outputs": [
        {
          "output_type": "execute_result",
          "data": {
            "text/plain": [
              "                               Relative Compactness(X1)  Surface Area(X2)  \\\n",
              "Relative Compactness(X1)                           1.00             -0.99   \n",
              "Surface Area(X2)                                  -0.99              1.00   \n",
              "Wall Area(X3)                                     -0.20              0.20   \n",
              "Roof Area(X4)                                     -0.87              0.88   \n",
              "Overall Height(X5)                                 0.83             -0.86   \n",
              "Orientation(X6)                                    0.00             -0.00   \n",
              "Glazing Area(X7)                                  -0.00              0.00   \n",
              "Glazing Area Distribution(X8)                     -0.00              0.00   \n",
              "Heating Load(y1)                                   0.62             -0.66   \n",
              "Cooling Load(y2)                                   0.63             -0.67   \n",
              "\n",
              "                               Wall Area(X3)  Roof Area(X4)  \\\n",
              "Relative Compactness(X1)               -0.20          -0.87   \n",
              "Surface Area(X2)                        0.20           0.88   \n",
              "Wall Area(X3)                           1.00          -0.29   \n",
              "Roof Area(X4)                          -0.29           1.00   \n",
              "Overall Height(X5)                      0.28          -0.97   \n",
              "Orientation(X6)                        -0.00          -0.00   \n",
              "Glazing Area(X7)                       -0.00          -0.00   \n",
              "Glazing Area Distribution(X8)           0.00          -0.00   \n",
              "Heating Load(y1)                        0.46          -0.86   \n",
              "Cooling Load(y2)                        0.43          -0.86   \n",
              "\n",
              "                               Overall Height(X5)  Orientation(X6)  \\\n",
              "Relative Compactness(X1)                     0.83             0.00   \n",
              "Surface Area(X2)                            -0.86            -0.00   \n",
              "Wall Area(X3)                                0.28            -0.00   \n",
              "Roof Area(X4)                               -0.97            -0.00   \n",
              "Overall Height(X5)                           1.00             0.00   \n",
              "Orientation(X6)                              0.00             1.00   \n",
              "Glazing Area(X7)                             0.00            -0.00   \n",
              "Glazing Area Distribution(X8)               -0.00            -0.00   \n",
              "Heating Load(y1)                             0.89            -0.00   \n",
              "Cooling Load(y2)                             0.90             0.01   \n",
              "\n",
              "                               Glazing Area(X7)  \\\n",
              "Relative Compactness(X1)                  -0.00   \n",
              "Surface Area(X2)                           0.00   \n",
              "Wall Area(X3)                             -0.00   \n",
              "Roof Area(X4)                             -0.00   \n",
              "Overall Height(X5)                         0.00   \n",
              "Orientation(X6)                           -0.00   \n",
              "Glazing Area(X7)                           1.00   \n",
              "Glazing Area Distribution(X8)              0.21   \n",
              "Heating Load(y1)                           0.27   \n",
              "Cooling Load(y2)                           0.21   \n",
              "\n",
              "                               Glazing Area Distribution(X8)  \\\n",
              "Relative Compactness(X1)                               -0.00   \n",
              "Surface Area(X2)                                        0.00   \n",
              "Wall Area(X3)                                           0.00   \n",
              "Roof Area(X4)                                          -0.00   \n",
              "Overall Height(X5)                                     -0.00   \n",
              "Orientation(X6)                                        -0.00   \n",
              "Glazing Area(X7)                                        0.21   \n",
              "Glazing Area Distribution(X8)                           1.00   \n",
              "Heating Load(y1)                                        0.09   \n",
              "Cooling Load(y2)                                        0.05   \n",
              "\n",
              "                               Heating Load(y1)  Cooling Load(y2)  \n",
              "Relative Compactness(X1)                   0.62              0.63  \n",
              "Surface Area(X2)                          -0.66             -0.67  \n",
              "Wall Area(X3)                              0.46              0.43  \n",
              "Roof Area(X4)                             -0.86             -0.86  \n",
              "Overall Height(X5)                         0.89              0.90  \n",
              "Orientation(X6)                           -0.00              0.01  \n",
              "Glazing Area(X7)                           0.27              0.21  \n",
              "Glazing Area Distribution(X8)              0.09              0.05  \n",
              "Heating Load(y1)                           1.00              0.98  \n",
              "Cooling Load(y2)                           0.98              1.00  "
            ],
            "text/html": [
              "\n",
              "  <div id=\"df-accd07a1-e7fd-4414-90bf-21d6a7424385\">\n",
              "    <div class=\"colab-df-container\">\n",
              "      <div>\n",
              "<style scoped>\n",
              "    .dataframe tbody tr th:only-of-type {\n",
              "        vertical-align: middle;\n",
              "    }\n",
              "\n",
              "    .dataframe tbody tr th {\n",
              "        vertical-align: top;\n",
              "    }\n",
              "\n",
              "    .dataframe thead th {\n",
              "        text-align: right;\n",
              "    }\n",
              "</style>\n",
              "<table border=\"1\" class=\"dataframe\">\n",
              "  <thead>\n",
              "    <tr style=\"text-align: right;\">\n",
              "      <th></th>\n",
              "      <th>Relative Compactness(X1)</th>\n",
              "      <th>Surface Area(X2)</th>\n",
              "      <th>Wall Area(X3)</th>\n",
              "      <th>Roof Area(X4)</th>\n",
              "      <th>Overall Height(X5)</th>\n",
              "      <th>Orientation(X6)</th>\n",
              "      <th>Glazing Area(X7)</th>\n",
              "      <th>Glazing Area Distribution(X8)</th>\n",
              "      <th>Heating Load(y1)</th>\n",
              "      <th>Cooling Load(y2)</th>\n",
              "    </tr>\n",
              "  </thead>\n",
              "  <tbody>\n",
              "    <tr>\n",
              "      <th>Relative Compactness(X1)</th>\n",
              "      <td>1.00</td>\n",
              "      <td>-0.99</td>\n",
              "      <td>-0.20</td>\n",
              "      <td>-0.87</td>\n",
              "      <td>0.83</td>\n",
              "      <td>0.00</td>\n",
              "      <td>-0.00</td>\n",
              "      <td>-0.00</td>\n",
              "      <td>0.62</td>\n",
              "      <td>0.63</td>\n",
              "    </tr>\n",
              "    <tr>\n",
              "      <th>Surface Area(X2)</th>\n",
              "      <td>-0.99</td>\n",
              "      <td>1.00</td>\n",
              "      <td>0.20</td>\n",
              "      <td>0.88</td>\n",
              "      <td>-0.86</td>\n",
              "      <td>-0.00</td>\n",
              "      <td>0.00</td>\n",
              "      <td>0.00</td>\n",
              "      <td>-0.66</td>\n",
              "      <td>-0.67</td>\n",
              "    </tr>\n",
              "    <tr>\n",
              "      <th>Wall Area(X3)</th>\n",
              "      <td>-0.20</td>\n",
              "      <td>0.20</td>\n",
              "      <td>1.00</td>\n",
              "      <td>-0.29</td>\n",
              "      <td>0.28</td>\n",
              "      <td>-0.00</td>\n",
              "      <td>-0.00</td>\n",
              "      <td>0.00</td>\n",
              "      <td>0.46</td>\n",
              "      <td>0.43</td>\n",
              "    </tr>\n",
              "    <tr>\n",
              "      <th>Roof Area(X4)</th>\n",
              "      <td>-0.87</td>\n",
              "      <td>0.88</td>\n",
              "      <td>-0.29</td>\n",
              "      <td>1.00</td>\n",
              "      <td>-0.97</td>\n",
              "      <td>-0.00</td>\n",
              "      <td>-0.00</td>\n",
              "      <td>-0.00</td>\n",
              "      <td>-0.86</td>\n",
              "      <td>-0.86</td>\n",
              "    </tr>\n",
              "    <tr>\n",
              "      <th>Overall Height(X5)</th>\n",
              "      <td>0.83</td>\n",
              "      <td>-0.86</td>\n",
              "      <td>0.28</td>\n",
              "      <td>-0.97</td>\n",
              "      <td>1.00</td>\n",
              "      <td>0.00</td>\n",
              "      <td>0.00</td>\n",
              "      <td>-0.00</td>\n",
              "      <td>0.89</td>\n",
              "      <td>0.90</td>\n",
              "    </tr>\n",
              "    <tr>\n",
              "      <th>Orientation(X6)</th>\n",
              "      <td>0.00</td>\n",
              "      <td>-0.00</td>\n",
              "      <td>-0.00</td>\n",
              "      <td>-0.00</td>\n",
              "      <td>0.00</td>\n",
              "      <td>1.00</td>\n",
              "      <td>-0.00</td>\n",
              "      <td>-0.00</td>\n",
              "      <td>-0.00</td>\n",
              "      <td>0.01</td>\n",
              "    </tr>\n",
              "    <tr>\n",
              "      <th>Glazing Area(X7)</th>\n",
              "      <td>-0.00</td>\n",
              "      <td>0.00</td>\n",
              "      <td>-0.00</td>\n",
              "      <td>-0.00</td>\n",
              "      <td>0.00</td>\n",
              "      <td>-0.00</td>\n",
              "      <td>1.00</td>\n",
              "      <td>0.21</td>\n",
              "      <td>0.27</td>\n",
              "      <td>0.21</td>\n",
              "    </tr>\n",
              "    <tr>\n",
              "      <th>Glazing Area Distribution(X8)</th>\n",
              "      <td>-0.00</td>\n",
              "      <td>0.00</td>\n",
              "      <td>0.00</td>\n",
              "      <td>-0.00</td>\n",
              "      <td>-0.00</td>\n",
              "      <td>-0.00</td>\n",
              "      <td>0.21</td>\n",
              "      <td>1.00</td>\n",
              "      <td>0.09</td>\n",
              "      <td>0.05</td>\n",
              "    </tr>\n",
              "    <tr>\n",
              "      <th>Heating Load(y1)</th>\n",
              "      <td>0.62</td>\n",
              "      <td>-0.66</td>\n",
              "      <td>0.46</td>\n",
              "      <td>-0.86</td>\n",
              "      <td>0.89</td>\n",
              "      <td>-0.00</td>\n",
              "      <td>0.27</td>\n",
              "      <td>0.09</td>\n",
              "      <td>1.00</td>\n",
              "      <td>0.98</td>\n",
              "    </tr>\n",
              "    <tr>\n",
              "      <th>Cooling Load(y2)</th>\n",
              "      <td>0.63</td>\n",
              "      <td>-0.67</td>\n",
              "      <td>0.43</td>\n",
              "      <td>-0.86</td>\n",
              "      <td>0.90</td>\n",
              "      <td>0.01</td>\n",
              "      <td>0.21</td>\n",
              "      <td>0.05</td>\n",
              "      <td>0.98</td>\n",
              "      <td>1.00</td>\n",
              "    </tr>\n",
              "  </tbody>\n",
              "</table>\n",
              "</div>\n",
              "      <button class=\"colab-df-convert\" onclick=\"convertToInteractive('df-accd07a1-e7fd-4414-90bf-21d6a7424385')\"\n",
              "              title=\"Convert this dataframe to an interactive table.\"\n",
              "              style=\"display:none;\">\n",
              "        \n",
              "  <svg xmlns=\"http://www.w3.org/2000/svg\" height=\"24px\"viewBox=\"0 0 24 24\"\n",
              "       width=\"24px\">\n",
              "    <path d=\"M0 0h24v24H0V0z\" fill=\"none\"/>\n",
              "    <path d=\"M18.56 5.44l.94 2.06.94-2.06 2.06-.94-2.06-.94-.94-2.06-.94 2.06-2.06.94zm-11 1L8.5 8.5l.94-2.06 2.06-.94-2.06-.94L8.5 2.5l-.94 2.06-2.06.94zm10 10l.94 2.06.94-2.06 2.06-.94-2.06-.94-.94-2.06-.94 2.06-2.06.94z\"/><path d=\"M17.41 7.96l-1.37-1.37c-.4-.4-.92-.59-1.43-.59-.52 0-1.04.2-1.43.59L10.3 9.45l-7.72 7.72c-.78.78-.78 2.05 0 2.83L4 21.41c.39.39.9.59 1.41.59.51 0 1.02-.2 1.41-.59l7.78-7.78 2.81-2.81c.8-.78.8-2.07 0-2.86zM5.41 20L4 18.59l7.72-7.72 1.47 1.35L5.41 20z\"/>\n",
              "  </svg>\n",
              "      </button>\n",
              "      \n",
              "  <style>\n",
              "    .colab-df-container {\n",
              "      display:flex;\n",
              "      flex-wrap:wrap;\n",
              "      gap: 12px;\n",
              "    }\n",
              "\n",
              "    .colab-df-convert {\n",
              "      background-color: #E8F0FE;\n",
              "      border: none;\n",
              "      border-radius: 50%;\n",
              "      cursor: pointer;\n",
              "      display: none;\n",
              "      fill: #1967D2;\n",
              "      height: 32px;\n",
              "      padding: 0 0 0 0;\n",
              "      width: 32px;\n",
              "    }\n",
              "\n",
              "    .colab-df-convert:hover {\n",
              "      background-color: #E2EBFA;\n",
              "      box-shadow: 0px 1px 2px rgba(60, 64, 67, 0.3), 0px 1px 3px 1px rgba(60, 64, 67, 0.15);\n",
              "      fill: #174EA6;\n",
              "    }\n",
              "\n",
              "    [theme=dark] .colab-df-convert {\n",
              "      background-color: #3B4455;\n",
              "      fill: #D2E3FC;\n",
              "    }\n",
              "\n",
              "    [theme=dark] .colab-df-convert:hover {\n",
              "      background-color: #434B5C;\n",
              "      box-shadow: 0px 1px 3px 1px rgba(0, 0, 0, 0.15);\n",
              "      filter: drop-shadow(0px 1px 2px rgba(0, 0, 0, 0.3));\n",
              "      fill: #FFFFFF;\n",
              "    }\n",
              "  </style>\n",
              "\n",
              "      <script>\n",
              "        const buttonEl =\n",
              "          document.querySelector('#df-accd07a1-e7fd-4414-90bf-21d6a7424385 button.colab-df-convert');\n",
              "        buttonEl.style.display =\n",
              "          google.colab.kernel.accessAllowed ? 'block' : 'none';\n",
              "\n",
              "        async function convertToInteractive(key) {\n",
              "          const element = document.querySelector('#df-accd07a1-e7fd-4414-90bf-21d6a7424385');\n",
              "          const dataTable =\n",
              "            await google.colab.kernel.invokeFunction('convertToInteractive',\n",
              "                                                     [key], {});\n",
              "          if (!dataTable) return;\n",
              "\n",
              "          const docLinkHtml = 'Like what you see? Visit the ' +\n",
              "            '<a target=\"_blank\" href=https://colab.research.google.com/notebooks/data_table.ipynb>data table notebook</a>'\n",
              "            + ' to learn more about interactive tables.';\n",
              "          element.innerHTML = '';\n",
              "          dataTable['output_type'] = 'display_data';\n",
              "          await google.colab.output.renderOutput(dataTable, element);\n",
              "          const docLink = document.createElement('div');\n",
              "          docLink.innerHTML = docLinkHtml;\n",
              "          element.appendChild(docLink);\n",
              "        }\n",
              "      </script>\n",
              "    </div>\n",
              "  </div>\n",
              "  "
            ]
          },
          "metadata": {},
          "execution_count": 84
        }
      ]
    },
    {
      "cell_type": "markdown",
      "source": [
        "\n",
        "The tables shows that there is a strong correlation between targets. We cannot exclude one of those, because heating load and cooling are equally important outputs to be predicted."
      ],
      "metadata": {
        "id": "LKFixrp4QdLU"
      }
    },
    {
      "cell_type": "markdown",
      "source": [
        "Each feature has different scale, as we can see the minimum and maximum values for each of variables. To obtain a better scale, it is good to normalize the data because it makes distributions better."
      ],
      "metadata": {
        "id": "ZYem_4IqRF4l"
      }
    },
    {
      "cell_type": "markdown",
      "source": [
        "# **Noramlizing dataset**"
      ],
      "metadata": {
        "id": "JG1QPUYmyEP1"
      }
    },
    {
      "cell_type": "code",
      "source": [
        "df = (df-np.min(df)) / (np.max(df) - np.min(df))\n",
        "df .head(5)"
      ],
      "metadata": {
        "id": "7RDwRJmDT2J3",
        "colab": {
          "base_uri": "https://localhost:8080/",
          "height": 288
        },
        "outputId": "2b7184e7-421e-4a9e-955c-6b1a8c29ad1c"
      },
      "execution_count": 85,
      "outputs": [
        {
          "output_type": "execute_result",
          "data": {
            "text/plain": [
              "   Relative Compactness(X1)  Surface Area(X2)  Wall Area(X3)  Roof Area(X4)  \\\n",
              "0                      1.00              0.00           0.29           0.00   \n",
              "1                      1.00              0.00           0.29           0.00   \n",
              "2                      1.00              0.00           0.29           0.00   \n",
              "3                      1.00              0.00           0.29           0.00   \n",
              "4                      0.78              0.17           0.43           0.11   \n",
              "\n",
              "   Overall Height(X5)  Orientation(X6)  Glazing Area(X7)  \\\n",
              "0                1.00             0.00              0.00   \n",
              "1                1.00             0.33              0.00   \n",
              "2                1.00             0.67              0.00   \n",
              "3                1.00             1.00              0.00   \n",
              "4                1.00             0.00              0.00   \n",
              "\n",
              "   Glazing Area Distribution(X8)  Heating Load(y1)  Cooling Load(y2)  \n",
              "0                           0.00              0.26              0.28  \n",
              "1                           0.00              0.26              0.28  \n",
              "2                           0.00              0.26              0.28  \n",
              "3                           0.00              0.26              0.28  \n",
              "4                           0.00              0.40              0.47  "
            ],
            "text/html": [
              "\n",
              "  <div id=\"df-11fc9243-aa8c-4e7f-9298-d27e8e0d7928\">\n",
              "    <div class=\"colab-df-container\">\n",
              "      <div>\n",
              "<style scoped>\n",
              "    .dataframe tbody tr th:only-of-type {\n",
              "        vertical-align: middle;\n",
              "    }\n",
              "\n",
              "    .dataframe tbody tr th {\n",
              "        vertical-align: top;\n",
              "    }\n",
              "\n",
              "    .dataframe thead th {\n",
              "        text-align: right;\n",
              "    }\n",
              "</style>\n",
              "<table border=\"1\" class=\"dataframe\">\n",
              "  <thead>\n",
              "    <tr style=\"text-align: right;\">\n",
              "      <th></th>\n",
              "      <th>Relative Compactness(X1)</th>\n",
              "      <th>Surface Area(X2)</th>\n",
              "      <th>Wall Area(X3)</th>\n",
              "      <th>Roof Area(X4)</th>\n",
              "      <th>Overall Height(X5)</th>\n",
              "      <th>Orientation(X6)</th>\n",
              "      <th>Glazing Area(X7)</th>\n",
              "      <th>Glazing Area Distribution(X8)</th>\n",
              "      <th>Heating Load(y1)</th>\n",
              "      <th>Cooling Load(y2)</th>\n",
              "    </tr>\n",
              "  </thead>\n",
              "  <tbody>\n",
              "    <tr>\n",
              "      <th>0</th>\n",
              "      <td>1.00</td>\n",
              "      <td>0.00</td>\n",
              "      <td>0.29</td>\n",
              "      <td>0.00</td>\n",
              "      <td>1.00</td>\n",
              "      <td>0.00</td>\n",
              "      <td>0.00</td>\n",
              "      <td>0.00</td>\n",
              "      <td>0.26</td>\n",
              "      <td>0.28</td>\n",
              "    </tr>\n",
              "    <tr>\n",
              "      <th>1</th>\n",
              "      <td>1.00</td>\n",
              "      <td>0.00</td>\n",
              "      <td>0.29</td>\n",
              "      <td>0.00</td>\n",
              "      <td>1.00</td>\n",
              "      <td>0.33</td>\n",
              "      <td>0.00</td>\n",
              "      <td>0.00</td>\n",
              "      <td>0.26</td>\n",
              "      <td>0.28</td>\n",
              "    </tr>\n",
              "    <tr>\n",
              "      <th>2</th>\n",
              "      <td>1.00</td>\n",
              "      <td>0.00</td>\n",
              "      <td>0.29</td>\n",
              "      <td>0.00</td>\n",
              "      <td>1.00</td>\n",
              "      <td>0.67</td>\n",
              "      <td>0.00</td>\n",
              "      <td>0.00</td>\n",
              "      <td>0.26</td>\n",
              "      <td>0.28</td>\n",
              "    </tr>\n",
              "    <tr>\n",
              "      <th>3</th>\n",
              "      <td>1.00</td>\n",
              "      <td>0.00</td>\n",
              "      <td>0.29</td>\n",
              "      <td>0.00</td>\n",
              "      <td>1.00</td>\n",
              "      <td>1.00</td>\n",
              "      <td>0.00</td>\n",
              "      <td>0.00</td>\n",
              "      <td>0.26</td>\n",
              "      <td>0.28</td>\n",
              "    </tr>\n",
              "    <tr>\n",
              "      <th>4</th>\n",
              "      <td>0.78</td>\n",
              "      <td>0.17</td>\n",
              "      <td>0.43</td>\n",
              "      <td>0.11</td>\n",
              "      <td>1.00</td>\n",
              "      <td>0.00</td>\n",
              "      <td>0.00</td>\n",
              "      <td>0.00</td>\n",
              "      <td>0.40</td>\n",
              "      <td>0.47</td>\n",
              "    </tr>\n",
              "  </tbody>\n",
              "</table>\n",
              "</div>\n",
              "      <button class=\"colab-df-convert\" onclick=\"convertToInteractive('df-11fc9243-aa8c-4e7f-9298-d27e8e0d7928')\"\n",
              "              title=\"Convert this dataframe to an interactive table.\"\n",
              "              style=\"display:none;\">\n",
              "        \n",
              "  <svg xmlns=\"http://www.w3.org/2000/svg\" height=\"24px\"viewBox=\"0 0 24 24\"\n",
              "       width=\"24px\">\n",
              "    <path d=\"M0 0h24v24H0V0z\" fill=\"none\"/>\n",
              "    <path d=\"M18.56 5.44l.94 2.06.94-2.06 2.06-.94-2.06-.94-.94-2.06-.94 2.06-2.06.94zm-11 1L8.5 8.5l.94-2.06 2.06-.94-2.06-.94L8.5 2.5l-.94 2.06-2.06.94zm10 10l.94 2.06.94-2.06 2.06-.94-2.06-.94-.94-2.06-.94 2.06-2.06.94z\"/><path d=\"M17.41 7.96l-1.37-1.37c-.4-.4-.92-.59-1.43-.59-.52 0-1.04.2-1.43.59L10.3 9.45l-7.72 7.72c-.78.78-.78 2.05 0 2.83L4 21.41c.39.39.9.59 1.41.59.51 0 1.02-.2 1.41-.59l7.78-7.78 2.81-2.81c.8-.78.8-2.07 0-2.86zM5.41 20L4 18.59l7.72-7.72 1.47 1.35L5.41 20z\"/>\n",
              "  </svg>\n",
              "      </button>\n",
              "      \n",
              "  <style>\n",
              "    .colab-df-container {\n",
              "      display:flex;\n",
              "      flex-wrap:wrap;\n",
              "      gap: 12px;\n",
              "    }\n",
              "\n",
              "    .colab-df-convert {\n",
              "      background-color: #E8F0FE;\n",
              "      border: none;\n",
              "      border-radius: 50%;\n",
              "      cursor: pointer;\n",
              "      display: none;\n",
              "      fill: #1967D2;\n",
              "      height: 32px;\n",
              "      padding: 0 0 0 0;\n",
              "      width: 32px;\n",
              "    }\n",
              "\n",
              "    .colab-df-convert:hover {\n",
              "      background-color: #E2EBFA;\n",
              "      box-shadow: 0px 1px 2px rgba(60, 64, 67, 0.3), 0px 1px 3px 1px rgba(60, 64, 67, 0.15);\n",
              "      fill: #174EA6;\n",
              "    }\n",
              "\n",
              "    [theme=dark] .colab-df-convert {\n",
              "      background-color: #3B4455;\n",
              "      fill: #D2E3FC;\n",
              "    }\n",
              "\n",
              "    [theme=dark] .colab-df-convert:hover {\n",
              "      background-color: #434B5C;\n",
              "      box-shadow: 0px 1px 3px 1px rgba(0, 0, 0, 0.15);\n",
              "      filter: drop-shadow(0px 1px 2px rgba(0, 0, 0, 0.3));\n",
              "      fill: #FFFFFF;\n",
              "    }\n",
              "  </style>\n",
              "\n",
              "      <script>\n",
              "        const buttonEl =\n",
              "          document.querySelector('#df-11fc9243-aa8c-4e7f-9298-d27e8e0d7928 button.colab-df-convert');\n",
              "        buttonEl.style.display =\n",
              "          google.colab.kernel.accessAllowed ? 'block' : 'none';\n",
              "\n",
              "        async function convertToInteractive(key) {\n",
              "          const element = document.querySelector('#df-11fc9243-aa8c-4e7f-9298-d27e8e0d7928');\n",
              "          const dataTable =\n",
              "            await google.colab.kernel.invokeFunction('convertToInteractive',\n",
              "                                                     [key], {});\n",
              "          if (!dataTable) return;\n",
              "\n",
              "          const docLinkHtml = 'Like what you see? Visit the ' +\n",
              "            '<a target=\"_blank\" href=https://colab.research.google.com/notebooks/data_table.ipynb>data table notebook</a>'\n",
              "            + ' to learn more about interactive tables.';\n",
              "          element.innerHTML = '';\n",
              "          dataTable['output_type'] = 'display_data';\n",
              "          await google.colab.output.renderOutput(dataTable, element);\n",
              "          const docLink = document.createElement('div');\n",
              "          docLink.innerHTML = docLinkHtml;\n",
              "          element.appendChild(docLink);\n",
              "        }\n",
              "      </script>\n",
              "    </div>\n",
              "  </div>\n",
              "  "
            ]
          },
          "metadata": {},
          "execution_count": 85
        }
      ]
    },
    {
      "cell_type": "code",
      "source": [
        "df.describe().T"
      ],
      "metadata": {
        "id": "U-2aEUdgT8U-",
        "colab": {
          "base_uri": "https://localhost:8080/",
          "height": 363
        },
        "outputId": "cdfe266b-4b85-487d-d815-55b95573c8f1"
      },
      "execution_count": 86,
      "outputs": [
        {
          "output_type": "execute_result",
          "data": {
            "text/plain": [
              "                               count  mean  std  min  25%  50%  75%  max\n",
              "Relative Compactness(X1)      768.00  0.40 0.29 0.00 0.17 0.36 0.58 1.00\n",
              "Surface Area(X2)              768.00  0.53 0.30 0.00 0.31 0.54 0.77 1.00\n",
              "Wall Area(X3)                 768.00  0.43 0.25 0.00 0.29 0.43 0.57 1.00\n",
              "Roof Area(X4)                 768.00  0.60 0.41 0.00 0.28 0.67 1.00 1.00\n",
              "Overall Height(X5)            768.00  0.50 0.50 0.00 0.00 0.50 1.00 1.00\n",
              "Orientation(X6)               768.00  0.50 0.37 0.00 0.25 0.50 0.75 1.00\n",
              "Glazing Area(X7)              768.00  0.59 0.33 0.00 0.25 0.62 1.00 1.00\n",
              "Glazing Area Distribution(X8) 768.00  0.56 0.31 0.00 0.35 0.60 0.80 1.00\n",
              "Heating Load(y1)              768.00  0.44 0.27 0.00 0.19 0.35 0.69 1.00\n",
              "Cooling Load(y2)              768.00  0.37 0.26 0.00 0.13 0.30 0.60 1.00"
            ],
            "text/html": [
              "\n",
              "  <div id=\"df-fe58c2e3-bd38-42ba-bdc1-10a22916cc0f\">\n",
              "    <div class=\"colab-df-container\">\n",
              "      <div>\n",
              "<style scoped>\n",
              "    .dataframe tbody tr th:only-of-type {\n",
              "        vertical-align: middle;\n",
              "    }\n",
              "\n",
              "    .dataframe tbody tr th {\n",
              "        vertical-align: top;\n",
              "    }\n",
              "\n",
              "    .dataframe thead th {\n",
              "        text-align: right;\n",
              "    }\n",
              "</style>\n",
              "<table border=\"1\" class=\"dataframe\">\n",
              "  <thead>\n",
              "    <tr style=\"text-align: right;\">\n",
              "      <th></th>\n",
              "      <th>count</th>\n",
              "      <th>mean</th>\n",
              "      <th>std</th>\n",
              "      <th>min</th>\n",
              "      <th>25%</th>\n",
              "      <th>50%</th>\n",
              "      <th>75%</th>\n",
              "      <th>max</th>\n",
              "    </tr>\n",
              "  </thead>\n",
              "  <tbody>\n",
              "    <tr>\n",
              "      <th>Relative Compactness(X1)</th>\n",
              "      <td>768.00</td>\n",
              "      <td>0.40</td>\n",
              "      <td>0.29</td>\n",
              "      <td>0.00</td>\n",
              "      <td>0.17</td>\n",
              "      <td>0.36</td>\n",
              "      <td>0.58</td>\n",
              "      <td>1.00</td>\n",
              "    </tr>\n",
              "    <tr>\n",
              "      <th>Surface Area(X2)</th>\n",
              "      <td>768.00</td>\n",
              "      <td>0.53</td>\n",
              "      <td>0.30</td>\n",
              "      <td>0.00</td>\n",
              "      <td>0.31</td>\n",
              "      <td>0.54</td>\n",
              "      <td>0.77</td>\n",
              "      <td>1.00</td>\n",
              "    </tr>\n",
              "    <tr>\n",
              "      <th>Wall Area(X3)</th>\n",
              "      <td>768.00</td>\n",
              "      <td>0.43</td>\n",
              "      <td>0.25</td>\n",
              "      <td>0.00</td>\n",
              "      <td>0.29</td>\n",
              "      <td>0.43</td>\n",
              "      <td>0.57</td>\n",
              "      <td>1.00</td>\n",
              "    </tr>\n",
              "    <tr>\n",
              "      <th>Roof Area(X4)</th>\n",
              "      <td>768.00</td>\n",
              "      <td>0.60</td>\n",
              "      <td>0.41</td>\n",
              "      <td>0.00</td>\n",
              "      <td>0.28</td>\n",
              "      <td>0.67</td>\n",
              "      <td>1.00</td>\n",
              "      <td>1.00</td>\n",
              "    </tr>\n",
              "    <tr>\n",
              "      <th>Overall Height(X5)</th>\n",
              "      <td>768.00</td>\n",
              "      <td>0.50</td>\n",
              "      <td>0.50</td>\n",
              "      <td>0.00</td>\n",
              "      <td>0.00</td>\n",
              "      <td>0.50</td>\n",
              "      <td>1.00</td>\n",
              "      <td>1.00</td>\n",
              "    </tr>\n",
              "    <tr>\n",
              "      <th>Orientation(X6)</th>\n",
              "      <td>768.00</td>\n",
              "      <td>0.50</td>\n",
              "      <td>0.37</td>\n",
              "      <td>0.00</td>\n",
              "      <td>0.25</td>\n",
              "      <td>0.50</td>\n",
              "      <td>0.75</td>\n",
              "      <td>1.00</td>\n",
              "    </tr>\n",
              "    <tr>\n",
              "      <th>Glazing Area(X7)</th>\n",
              "      <td>768.00</td>\n",
              "      <td>0.59</td>\n",
              "      <td>0.33</td>\n",
              "      <td>0.00</td>\n",
              "      <td>0.25</td>\n",
              "      <td>0.62</td>\n",
              "      <td>1.00</td>\n",
              "      <td>1.00</td>\n",
              "    </tr>\n",
              "    <tr>\n",
              "      <th>Glazing Area Distribution(X8)</th>\n",
              "      <td>768.00</td>\n",
              "      <td>0.56</td>\n",
              "      <td>0.31</td>\n",
              "      <td>0.00</td>\n",
              "      <td>0.35</td>\n",
              "      <td>0.60</td>\n",
              "      <td>0.80</td>\n",
              "      <td>1.00</td>\n",
              "    </tr>\n",
              "    <tr>\n",
              "      <th>Heating Load(y1)</th>\n",
              "      <td>768.00</td>\n",
              "      <td>0.44</td>\n",
              "      <td>0.27</td>\n",
              "      <td>0.00</td>\n",
              "      <td>0.19</td>\n",
              "      <td>0.35</td>\n",
              "      <td>0.69</td>\n",
              "      <td>1.00</td>\n",
              "    </tr>\n",
              "    <tr>\n",
              "      <th>Cooling Load(y2)</th>\n",
              "      <td>768.00</td>\n",
              "      <td>0.37</td>\n",
              "      <td>0.26</td>\n",
              "      <td>0.00</td>\n",
              "      <td>0.13</td>\n",
              "      <td>0.30</td>\n",
              "      <td>0.60</td>\n",
              "      <td>1.00</td>\n",
              "    </tr>\n",
              "  </tbody>\n",
              "</table>\n",
              "</div>\n",
              "      <button class=\"colab-df-convert\" onclick=\"convertToInteractive('df-fe58c2e3-bd38-42ba-bdc1-10a22916cc0f')\"\n",
              "              title=\"Convert this dataframe to an interactive table.\"\n",
              "              style=\"display:none;\">\n",
              "        \n",
              "  <svg xmlns=\"http://www.w3.org/2000/svg\" height=\"24px\"viewBox=\"0 0 24 24\"\n",
              "       width=\"24px\">\n",
              "    <path d=\"M0 0h24v24H0V0z\" fill=\"none\"/>\n",
              "    <path d=\"M18.56 5.44l.94 2.06.94-2.06 2.06-.94-2.06-.94-.94-2.06-.94 2.06-2.06.94zm-11 1L8.5 8.5l.94-2.06 2.06-.94-2.06-.94L8.5 2.5l-.94 2.06-2.06.94zm10 10l.94 2.06.94-2.06 2.06-.94-2.06-.94-.94-2.06-.94 2.06-2.06.94z\"/><path d=\"M17.41 7.96l-1.37-1.37c-.4-.4-.92-.59-1.43-.59-.52 0-1.04.2-1.43.59L10.3 9.45l-7.72 7.72c-.78.78-.78 2.05 0 2.83L4 21.41c.39.39.9.59 1.41.59.51 0 1.02-.2 1.41-.59l7.78-7.78 2.81-2.81c.8-.78.8-2.07 0-2.86zM5.41 20L4 18.59l7.72-7.72 1.47 1.35L5.41 20z\"/>\n",
              "  </svg>\n",
              "      </button>\n",
              "      \n",
              "  <style>\n",
              "    .colab-df-container {\n",
              "      display:flex;\n",
              "      flex-wrap:wrap;\n",
              "      gap: 12px;\n",
              "    }\n",
              "\n",
              "    .colab-df-convert {\n",
              "      background-color: #E8F0FE;\n",
              "      border: none;\n",
              "      border-radius: 50%;\n",
              "      cursor: pointer;\n",
              "      display: none;\n",
              "      fill: #1967D2;\n",
              "      height: 32px;\n",
              "      padding: 0 0 0 0;\n",
              "      width: 32px;\n",
              "    }\n",
              "\n",
              "    .colab-df-convert:hover {\n",
              "      background-color: #E2EBFA;\n",
              "      box-shadow: 0px 1px 2px rgba(60, 64, 67, 0.3), 0px 1px 3px 1px rgba(60, 64, 67, 0.15);\n",
              "      fill: #174EA6;\n",
              "    }\n",
              "\n",
              "    [theme=dark] .colab-df-convert {\n",
              "      background-color: #3B4455;\n",
              "      fill: #D2E3FC;\n",
              "    }\n",
              "\n",
              "    [theme=dark] .colab-df-convert:hover {\n",
              "      background-color: #434B5C;\n",
              "      box-shadow: 0px 1px 3px 1px rgba(0, 0, 0, 0.15);\n",
              "      filter: drop-shadow(0px 1px 2px rgba(0, 0, 0, 0.3));\n",
              "      fill: #FFFFFF;\n",
              "    }\n",
              "  </style>\n",
              "\n",
              "      <script>\n",
              "        const buttonEl =\n",
              "          document.querySelector('#df-fe58c2e3-bd38-42ba-bdc1-10a22916cc0f button.colab-df-convert');\n",
              "        buttonEl.style.display =\n",
              "          google.colab.kernel.accessAllowed ? 'block' : 'none';\n",
              "\n",
              "        async function convertToInteractive(key) {\n",
              "          const element = document.querySelector('#df-fe58c2e3-bd38-42ba-bdc1-10a22916cc0f');\n",
              "          const dataTable =\n",
              "            await google.colab.kernel.invokeFunction('convertToInteractive',\n",
              "                                                     [key], {});\n",
              "          if (!dataTable) return;\n",
              "\n",
              "          const docLinkHtml = 'Like what you see? Visit the ' +\n",
              "            '<a target=\"_blank\" href=https://colab.research.google.com/notebooks/data_table.ipynb>data table notebook</a>'\n",
              "            + ' to learn more about interactive tables.';\n",
              "          element.innerHTML = '';\n",
              "          dataTable['output_type'] = 'display_data';\n",
              "          await google.colab.output.renderOutput(dataTable, element);\n",
              "          const docLink = document.createElement('div');\n",
              "          docLink.innerHTML = docLinkHtml;\n",
              "          element.appendChild(docLink);\n",
              "        }\n",
              "      </script>\n",
              "    </div>\n",
              "  </div>\n",
              "  "
            ]
          },
          "metadata": {},
          "execution_count": 86
        }
      ]
    },
    {
      "cell_type": "code",
      "source": [
        "sns.distplot(df['Cooling Load(y2)'],hist=False,color=\"Violet\",label=\"CoolLoad\")\n",
        "sns.distplot(df['Heating Load(y1)'],hist=False,color=\"Green\",label=\"HeatLoad\")\n",
        "plt.legend()\n",
        "plt.show()"
      ],
      "metadata": {
        "colab": {
          "base_uri": "https://localhost:8080/",
          "height": 279
        },
        "id": "VdDrdv9yVI2v",
        "outputId": "3fd25ee2-3678-4c1e-88db-886d22d2ce54"
      },
      "execution_count": 87,
      "outputs": [
        {
          "output_type": "display_data",
          "data": {
            "text/plain": [
              "<Figure size 432x288 with 1 Axes>"
            ],
            "image/png": "[encoded data removed]"
          },
          "metadata": {
            "needs_background": "light"
          }
        }
      ]
    },
    {
      "cell_type": "markdown",
      "source": [
        "heating load and cooling load are highly correlated"
      ],
      "metadata": {
        "id": "MzliiNEDVgRl"
      }
    },
    {
      "cell_type": "markdown",
      "source": [
        "# **MODELLING**"
      ],
      "metadata": {
        "id": "5o7myM5ZqDxF"
      }
    },
    {
      "cell_type": "code",
      "source": [
        "X = df.drop([\"Heating Load(y1)\",\"Cooling Load(y2)\"],axis=1)\n",
        "y1 = df['Heating Load(y1)']\n",
        "y2 = df['Cooling Load(y2)']"
      ],
      "metadata": {
        "id": "AWuCs3-pUEsk"
      },
      "execution_count": 88,
      "outputs": []
    },
    {
      "cell_type": "code",
      "source": [
        "from sklearn.preprocessing import StandardScaler,OneHotEncoder\n",
        "from sklearn.ensemble import RandomForestRegressor\n",
        "from sklearn.metrics import r2_score\n",
        "from sklearn.model_selection import train_test_split\n",
        "from sklearn.model_selection import cross_val_score\n",
        "from sklearn.tree import DecisionTreeRegressor"
      ],
      "metadata": {
        "id": "AVeeUSDRpv6O"
      },
      "execution_count": 89,
      "outputs": []
    },
    {
      "cell_type": "markdown",
      "source": [
        "**HEATING LOAD PREDICTION**"
      ],
      "metadata": {
        "id": "Xlyep2kQqNXr"
      }
    },
    {
      "cell_type": "code",
      "source": [
        "htmodel = []\n",
        "htscore = []"
      ],
      "metadata": {
        "id": "DNlmAGYGqHX4"
      },
      "execution_count": 90,
      "outputs": []
    },
    {
      "cell_type": "code",
      "source": [
        "dtr = DecisionTreeRegressor()\n",
        "scores = cross_val_score(dtr, X, y1, cv=5)\n",
        "print(np.mean(scores))\n",
        "htmodel.append('Descision Tree')\n",
        "htscore.append(np.mean(scores))"
      ],
      "metadata": {
        "colab": {
          "base_uri": "https://localhost:8080/"
        },
        "id": "PKzpQCqXqWsV",
        "outputId": "305f5317-3d05-41c0-b52a-dbcc4254f38a"
      },
      "execution_count": 91,
      "outputs": [
        {
          "output_type": "stream",
          "name": "stdout",
          "text": [
            "0.9643369031163145\n"
          ]
        }
      ]
    },
    {
      "cell_type": "code",
      "source": [
        "rfr = RandomForestRegressor()\n",
        "scores = cross_val_score(rfr, X, y1, cv=5)\n",
        "print(np.mean(scores))\n",
        "htmodel.append('Random Forest')\n",
        "htscore.append(np.mean(scores))"
      ],
      "metadata": {
        "colab": {
          "base_uri": "https://localhost:8080/"
        },
        "id": "Hd_bw4bBqsbD",
        "outputId": "7003e5ba-af9f-4867-ee3e-9cc7376124ba"
      },
      "execution_count": 92,
      "outputs": [
        {
          "output_type": "stream",
          "name": "stdout",
          "text": [
            "0.9651397586476245\n"
          ]
        }
      ]
    },
    {
      "cell_type": "code",
      "source": [
        "from sklearn.model_selection import train_test_split\n",
        "train_X, test_X, train_y, test_y = train_test_split(X, y1,test_size = 0.3, random_state = 123)\n",
        "import xgboost as xg\n",
        "xgb_r = xg.XGBRegressor(objective ='reg:squarederror',\n",
        "                  n_estimators = 10, seed = 123)\n",
        "xgb_r.fit(train_X, train_y)\n",
        "pred = xgb_r.predict(test_X)\n",
        "scores = r2_score(test_y,pred)\n",
        "print(scores)\n",
        "htmodel.append('Xgboost')\n",
        "htscore.append(scores)"
      ],
      "metadata": {
        "colab": {
          "base_uri": "https://localhost:8080/"
        },
        "id": "ccN_GNyRrpL9",
        "outputId": "227bfeb6-17b8-4023-8131-29f9b6ce7447"
      },
      "execution_count": 93,
      "outputs": [
        {
          "output_type": "stream",
          "name": "stdout",
          "text": [
            "0.8307395838412795\n"
          ]
        }
      ]
    },
    {
      "cell_type": "markdown",
      "source": [
        "COOLING LOAD PREDICTION"
      ],
      "metadata": {
        "id": "IwllMwQzr5Cf"
      }
    },
    {
      "cell_type": "code",
      "source": [
        "clmodel = []\n",
        "clscore = []"
      ],
      "metadata": {
        "id": "HaI-NpsCr4k0"
      },
      "execution_count": 94,
      "outputs": []
    },
    {
      "cell_type": "code",
      "source": [
        "dtr = DecisionTreeRegressor()\n",
        "scores = cross_val_score(dtr, X, y2, cv=5)\n",
        "print(np.mean(scores))\n",
        "clmodel.append('Descision Tree')\n",
        "clscore.append(np.mean(scores))"
      ],
      "metadata": {
        "colab": {
          "base_uri": "https://localhost:8080/"
        },
        "id": "tMBVr8uur_y4",
        "outputId": "efb6456f-3974-4fed-a03f-ef309a637723"
      },
      "execution_count": 95,
      "outputs": [
        {
          "output_type": "stream",
          "name": "stdout",
          "text": [
            "0.9382669574228564\n"
          ]
        }
      ]
    },
    {
      "cell_type": "code",
      "source": [
        "rfr = RandomForestRegressor()\n",
        "scores = cross_val_score(rfr, X, y2, cv=5)\n",
        "print(np.mean(scores))\n",
        "clmodel.append('Random Forest')\n",
        "clscore.append(np.mean(scores))"
      ],
      "metadata": {
        "colab": {
          "base_uri": "https://localhost:8080/"
        },
        "id": "6khEmbLesegs",
        "outputId": "16d2a2dd-b3f4-4d3f-af7f-08af93187bbc"
      },
      "execution_count": 96,
      "outputs": [
        {
          "output_type": "stream",
          "name": "stdout",
          "text": [
            "0.957889421072022\n"
          ]
        }
      ]
    },
    {
      "cell_type": "code",
      "source": [
        "from sklearn.model_selection import train_test_split\n",
        "train_X, test_X, train_y, test_y = train_test_split(X, y2,test_size = 0.3, random_state = 123)\n",
        "import xgboost as xg\n",
        "xgb_r = xg.XGBRegressor(objective ='reg:squarederror',\n",
        "                  n_estimators = 10, seed = 123)\n",
        "xgb_r.fit(train_X, train_y)\n",
        "pred = xgb_r.predict(test_X)\n",
        "scores = r2_score(test_y,pred)\n",
        "print(scores)\n",
        "clmodel.append('Xgboost')\n",
        "clscore.append(scores)"
      ],
      "metadata": {
        "colab": {
          "base_uri": "https://localhost:8080/"
        },
        "id": "0yaDJDD6spvQ",
        "outputId": "eb469972-27d1-47a0-aae3-8a752afd9f90"
      },
      "execution_count": 97,
      "outputs": [
        {
          "output_type": "stream",
          "name": "stdout",
          "text": [
            "0.773936604497294\n"
          ]
        }
      ]
    },
    {
      "cell_type": "markdown",
      "source": [
        "# **Heating & Cooling Scores Table**"
      ],
      "metadata": {
        "id": "PZ5sfsjByU7g"
      }
    },
    {
      "cell_type": "code",
      "source": [
        "from tabulate import tabulate\n",
        "table = [['Model','Score']]\n",
        "for i in range(len(htmodel)):\n",
        "    table.append([htmodel[i],htscore[i]])\n",
        "print('Heating Load Prediction Score')\n",
        "print(tabulate(table,headers='firstrow',tablefmt='grid'))"
      ],
      "metadata": {
        "colab": {
          "base_uri": "https://localhost:8080/"
        },
        "id": "x0v7x5U9s7Vj",
        "outputId": "f0d61134-603b-4ae1-d0f5-b393d96735aa"
      },
      "execution_count": 98,
      "outputs": [
        {
          "output_type": "stream",
          "name": "stdout",
          "text": [
            "Heating Load Prediction Score\n",
            "+----------------+----------+\n",
            "| Model          |    Score |\n",
            "+================+==========+\n",
            "| Descision Tree | 0.964337 |\n",
            "+----------------+----------+\n",
            "| Random Forest  | 0.96514  |\n",
            "+----------------+----------+\n",
            "| Xgboost        | 0.83074  |\n",
            "+----------------+----------+\n"
          ]
        }
      ]
    },
    {
      "cell_type": "code",
      "source": [
        "from tabulate import tabulate\n",
        "table = [['Model','Score']]\n",
        "for i in range(len(clmodel)):\n",
        "    table.append([clmodel[i],clscore[i]])\n",
        "print('Cooling Load Prediction Score')\n",
        "print(tabulate(table,headers='firstrow',tablefmt='grid'))"
      ],
      "metadata": {
        "colab": {
          "base_uri": "https://localhost:8080/"
        },
        "id": "FCOwBZ6VtR8m",
        "outputId": "e0a7e5f7-c1a0-4cfd-86e8-4dcfe174e99b"
      },
      "execution_count": 99,
      "outputs": [
        {
          "output_type": "stream",
          "name": "stdout",
          "text": [
            "Cooling Load Prediction Score\n",
            "+----------------+----------+\n",
            "| Model          |    Score |\n",
            "+================+==========+\n",
            "| Descision Tree | 0.938267 |\n",
            "+----------------+----------+\n",
            "| Random Forest  | 0.957889 |\n",
            "+----------------+----------+\n",
            "| Xgboost        | 0.773937 |\n",
            "+----------------+----------+\n"
          ]
        }
      ]
    }
  ]
}